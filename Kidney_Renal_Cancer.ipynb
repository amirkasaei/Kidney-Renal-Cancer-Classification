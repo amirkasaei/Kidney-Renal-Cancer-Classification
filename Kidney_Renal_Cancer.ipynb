{
  "nbformat": 4,
  "nbformat_minor": 0,
  "metadata": {
    "colab": {
      "provenance": [],
      "collapsed_sections": [
        "ub4-YOsGOV4v",
        "yiI9REVvObmX"
      ],
      "gpuType": "T4",
      "include_colab_link": true
    },
    "kernelspec": {
      "name": "python3",
      "display_name": "Python 3"
    },
    "language_info": {
      "name": "python"
    },
    "accelerator": "GPU"
  },
  "cells": [
    {
      "cell_type": "markdown",
      "metadata": {
        "id": "view-in-github",
        "colab_type": "text"
      },
      "source": [
        "<a href=\"https://colab.research.google.com/github/amirkasaei/Kidney-Renal-Cancer-Classification/blob/main/Kidney_Renal_Cancer.ipynb\" target=\"_parent\"><img src=\"https://colab.research.google.com/assets/colab-badge.svg\" alt=\"Open In Colab\"/></a>"
      ]
    },
    {
      "cell_type": "markdown",
      "source": [
        "# Imports"
      ],
      "metadata": {
        "id": "ub4-YOsGOV4v"
      }
    },
    {
      "cell_type": "code",
      "source": [
        "# imports\n",
        "import glob\n",
        "import cv2\n",
        "import random\n",
        "import copy\n",
        "import time\n",
        "import numpy as np\n",
        "\n",
        "import torch\n",
        "import torch.nn as nn\n",
        "from tqdm.auto import tqdm, trange\n",
        "from torchvision import datasets, models\n",
        "from torchvision import transforms as T\n",
        "from torch.utils.data import DataLoader, Dataset\n",
        "import torch.optim as optim\n",
        "# from torchvision import transforms\n",
        "import torchvision\n",
        "\n",
        "\n",
        "import matplotlib.pyplot as plt\n",
        "from PIL import Image\n",
        "import sklearn\n",
        "from sklearn.metrics import confusion_matrix\n",
        "from sklearn.metrics import classification_report\n",
        "from sklearn.model_selection import train_test_split\n",
        "from sklearn.model_selection import StratifiedShuffleSplit\n",
        "from sklearn.utils.class_weight import compute_class_weight\n",
        "import seaborn as sns\n",
        "import pandas as pd\n",
        "import shutil\n",
        "import os"
      ],
      "metadata": {
        "id": "qeYN0P853lQw"
      },
      "execution_count": 67,
      "outputs": []
    },
    {
      "cell_type": "markdown",
      "source": [
        "# Configs"
      ],
      "metadata": {
        "id": "yiI9REVvObmX"
      }
    },
    {
      "cell_type": "code",
      "source": [
        "torch.cuda.empty_cache()\n",
        "random.seed(42)\n",
        "torch.manual_seed(42)\n",
        "torch.cuda.manual_seed(42)\n",
        "\n",
        "device = torch.device('cuda' if torch.cuda.is_available() else 'cpu')\n",
        "device"
      ],
      "metadata": {
        "colab": {
          "base_uri": "https://localhost:8080/"
        },
        "id": "TPgY9DAkai4Q",
        "outputId": "67c1a88d-0dbb-4891-98d6-313544895103"
      },
      "execution_count": 2,
      "outputs": [
        {
          "output_type": "execute_result",
          "data": {
            "text/plain": [
              "device(type='cuda')"
            ]
          },
          "metadata": {},
          "execution_count": 2
        }
      ]
    },
    {
      "cell_type": "code",
      "source": [
        "# from google.colab import drive\n",
        "# drive.mount('/content/drive')"
      ],
      "metadata": {
        "id": "HnQUw7Q_bFCc"
      },
      "execution_count": 3,
      "outputs": []
    },
    {
      "cell_type": "markdown",
      "source": [
        "# Load Data"
      ],
      "metadata": {
        "id": "UfhzoMD5Oeba"
      }
    },
    {
      "cell_type": "code",
      "source": [
        "import gdown\n",
        "\n",
        "url = 'https://drive.google.com/uc?id=1_KBQVPseZcKE6yte0aVTnBLn3rgiUKyA'\n",
        "\n",
        "output = 'dataset.zip'\n",
        "gdown.download(url, output, quiet=False)"
      ],
      "metadata": {
        "colab": {
          "base_uri": "https://localhost:8080/",
          "height": 122
        },
        "id": "lgaZzb55byCJ",
        "outputId": "15714207-e6d0-4b04-eb7b-b476c71d986f"
      },
      "execution_count": 4,
      "outputs": [
        {
          "output_type": "stream",
          "name": "stderr",
          "text": [
            "Downloading...\n",
            "From (original): https://drive.google.com/uc?id=1_KBQVPseZcKE6yte0aVTnBLn3rgiUKyA\n",
            "From (redirected): https://drive.google.com/uc?id=1_KBQVPseZcKE6yte0aVTnBLn3rgiUKyA&confirm=t&uuid=2f9880bb-f8e0-429c-b381-6f604dbcdff2\n",
            "To: /content/dataset.zip\n",
            "100%|██████████| 173M/173M [00:03<00:00, 50.5MB/s]\n"
          ]
        },
        {
          "output_type": "execute_result",
          "data": {
            "text/plain": [
              "'dataset.zip'"
            ],
            "application/vnd.google.colaboratory.intrinsic+json": {
              "type": "string"
            }
          },
          "metadata": {},
          "execution_count": 4
        }
      ]
    },
    {
      "cell_type": "code",
      "source": [
        "! unzip -q dataset.zip"
      ],
      "metadata": {
        "id": "akKsl70ab7Md"
      },
      "execution_count": 5,
      "outputs": []
    },
    {
      "cell_type": "code",
      "source": [
        "classes = {\n",
        "    'AML (fat reach)': 0,\n",
        "    'Chromophobe RCC': 1,\n",
        "    'Clear Cell RCC': 2,\n",
        "    'High Grade Urothelial Papillary Carcinoma': 3,\n",
        "    'Hydatid Cyst': 4,\n",
        "    'Low Grade Papillary Urothelial Carcinoma': 5,\n",
        "    'Multilucolar Cystic Renal Neoplasm of Low Malignant': 6,\n",
        "    'Papillary RCC type 1': 7,\n",
        "    'Papillary RCC type 2': 8,\n",
        "    'Sarcomatoid RCC': 9,\n",
        "    'SCC': 10,\n",
        "    'Simple Cyst': 11,\n",
        "}"
      ],
      "metadata": {
        "id": "pES18ThJgYt4"
      },
      "execution_count": 6,
      "outputs": []
    },
    {
      "cell_type": "code",
      "source": [
        "def create_dataset(path):\n",
        "  dataset = {\n",
        "      'image_path': [],\n",
        "      'class_name': [],\n",
        "      'label': []\n",
        "  }\n",
        "  for image_path in glob.iglob(path + '/**/*.png'):\n",
        "    class_name = image_path.split('/')[-2]\n",
        "    dataset['image_path'].append(image_path)\n",
        "    dataset['class_name'].append(class_name)\n",
        "    dataset['label'].append(classes[class_name])\n",
        "\n",
        "  return dataset"
      ],
      "metadata": {
        "id": "Ws4tvQD4dC9t"
      },
      "execution_count": 7,
      "outputs": []
    },
    {
      "cell_type": "code",
      "source": [
        "p = '/content/Rencal Cancer merged/With Contrastive agent'\n",
        "data = create_dataset(p)"
      ],
      "metadata": {
        "id": "cw7LOtUZib4q"
      },
      "execution_count": 8,
      "outputs": []
    },
    {
      "cell_type": "code",
      "source": [
        "dataframe = pd.DataFrame(data)\n",
        "dataframe.head()"
      ],
      "metadata": {
        "colab": {
          "base_uri": "https://localhost:8080/",
          "height": 206
        },
        "id": "ZriqIwQkiyKd",
        "outputId": "920eafa3-ddbe-46bb-ac42-e49b84371e3c"
      },
      "execution_count": 9,
      "outputs": [
        {
          "output_type": "execute_result",
          "data": {
            "text/plain": [
              "                                          image_path            class_name  \\\n",
              "0  /content/Rencal Cancer merged/With Contrastive...  Papillary RCC type 2   \n",
              "1  /content/Rencal Cancer merged/With Contrastive...  Papillary RCC type 2   \n",
              "2  /content/Rencal Cancer merged/With Contrastive...  Papillary RCC type 2   \n",
              "3  /content/Rencal Cancer merged/With Contrastive...  Papillary RCC type 2   \n",
              "4  /content/Rencal Cancer merged/With Contrastive...  Papillary RCC type 2   \n",
              "\n",
              "   label  \n",
              "0      8  \n",
              "1      8  \n",
              "2      8  \n",
              "3      8  \n",
              "4      8  "
            ],
            "text/html": [
              "\n",
              "  <div id=\"df-053618a3-0684-446a-b595-514283805276\" class=\"colab-df-container\">\n",
              "    <div>\n",
              "<style scoped>\n",
              "    .dataframe tbody tr th:only-of-type {\n",
              "        vertical-align: middle;\n",
              "    }\n",
              "\n",
              "    .dataframe tbody tr th {\n",
              "        vertical-align: top;\n",
              "    }\n",
              "\n",
              "    .dataframe thead th {\n",
              "        text-align: right;\n",
              "    }\n",
              "</style>\n",
              "<table border=\"1\" class=\"dataframe\">\n",
              "  <thead>\n",
              "    <tr style=\"text-align: right;\">\n",
              "      <th></th>\n",
              "      <th>image_path</th>\n",
              "      <th>class_name</th>\n",
              "      <th>label</th>\n",
              "    </tr>\n",
              "  </thead>\n",
              "  <tbody>\n",
              "    <tr>\n",
              "      <th>0</th>\n",
              "      <td>/content/Rencal Cancer merged/With Contrastive...</td>\n",
              "      <td>Papillary RCC type 2</td>\n",
              "      <td>8</td>\n",
              "    </tr>\n",
              "    <tr>\n",
              "      <th>1</th>\n",
              "      <td>/content/Rencal Cancer merged/With Contrastive...</td>\n",
              "      <td>Papillary RCC type 2</td>\n",
              "      <td>8</td>\n",
              "    </tr>\n",
              "    <tr>\n",
              "      <th>2</th>\n",
              "      <td>/content/Rencal Cancer merged/With Contrastive...</td>\n",
              "      <td>Papillary RCC type 2</td>\n",
              "      <td>8</td>\n",
              "    </tr>\n",
              "    <tr>\n",
              "      <th>3</th>\n",
              "      <td>/content/Rencal Cancer merged/With Contrastive...</td>\n",
              "      <td>Papillary RCC type 2</td>\n",
              "      <td>8</td>\n",
              "    </tr>\n",
              "    <tr>\n",
              "      <th>4</th>\n",
              "      <td>/content/Rencal Cancer merged/With Contrastive...</td>\n",
              "      <td>Papillary RCC type 2</td>\n",
              "      <td>8</td>\n",
              "    </tr>\n",
              "  </tbody>\n",
              "</table>\n",
              "</div>\n",
              "    <div class=\"colab-df-buttons\">\n",
              "\n",
              "  <div class=\"colab-df-container\">\n",
              "    <button class=\"colab-df-convert\" onclick=\"convertToInteractive('df-053618a3-0684-446a-b595-514283805276')\"\n",
              "            title=\"Convert this dataframe to an interactive table.\"\n",
              "            style=\"display:none;\">\n",
              "\n",
              "  <svg xmlns=\"http://www.w3.org/2000/svg\" height=\"24px\" viewBox=\"0 -960 960 960\">\n",
              "    <path d=\"M120-120v-720h720v720H120Zm60-500h600v-160H180v160Zm220 220h160v-160H400v160Zm0 220h160v-160H400v160ZM180-400h160v-160H180v160Zm440 0h160v-160H620v160ZM180-180h160v-160H180v160Zm440 0h160v-160H620v160Z\"/>\n",
              "  </svg>\n",
              "    </button>\n",
              "\n",
              "  <style>\n",
              "    .colab-df-container {\n",
              "      display:flex;\n",
              "      gap: 12px;\n",
              "    }\n",
              "\n",
              "    .colab-df-convert {\n",
              "      background-color: #E8F0FE;\n",
              "      border: none;\n",
              "      border-radius: 50%;\n",
              "      cursor: pointer;\n",
              "      display: none;\n",
              "      fill: #1967D2;\n",
              "      height: 32px;\n",
              "      padding: 0 0 0 0;\n",
              "      width: 32px;\n",
              "    }\n",
              "\n",
              "    .colab-df-convert:hover {\n",
              "      background-color: #E2EBFA;\n",
              "      box-shadow: 0px 1px 2px rgba(60, 64, 67, 0.3), 0px 1px 3px 1px rgba(60, 64, 67, 0.15);\n",
              "      fill: #174EA6;\n",
              "    }\n",
              "\n",
              "    .colab-df-buttons div {\n",
              "      margin-bottom: 4px;\n",
              "    }\n",
              "\n",
              "    [theme=dark] .colab-df-convert {\n",
              "      background-color: #3B4455;\n",
              "      fill: #D2E3FC;\n",
              "    }\n",
              "\n",
              "    [theme=dark] .colab-df-convert:hover {\n",
              "      background-color: #434B5C;\n",
              "      box-shadow: 0px 1px 3px 1px rgba(0, 0, 0, 0.15);\n",
              "      filter: drop-shadow(0px 1px 2px rgba(0, 0, 0, 0.3));\n",
              "      fill: #FFFFFF;\n",
              "    }\n",
              "  </style>\n",
              "\n",
              "    <script>\n",
              "      const buttonEl =\n",
              "        document.querySelector('#df-053618a3-0684-446a-b595-514283805276 button.colab-df-convert');\n",
              "      buttonEl.style.display =\n",
              "        google.colab.kernel.accessAllowed ? 'block' : 'none';\n",
              "\n",
              "      async function convertToInteractive(key) {\n",
              "        const element = document.querySelector('#df-053618a3-0684-446a-b595-514283805276');\n",
              "        const dataTable =\n",
              "          await google.colab.kernel.invokeFunction('convertToInteractive',\n",
              "                                                    [key], {});\n",
              "        if (!dataTable) return;\n",
              "\n",
              "        const docLinkHtml = 'Like what you see? Visit the ' +\n",
              "          '<a target=\"_blank\" href=https://colab.research.google.com/notebooks/data_table.ipynb>data table notebook</a>'\n",
              "          + ' to learn more about interactive tables.';\n",
              "        element.innerHTML = '';\n",
              "        dataTable['output_type'] = 'display_data';\n",
              "        await google.colab.output.renderOutput(dataTable, element);\n",
              "        const docLink = document.createElement('div');\n",
              "        docLink.innerHTML = docLinkHtml;\n",
              "        element.appendChild(docLink);\n",
              "      }\n",
              "    </script>\n",
              "  </div>\n",
              "\n",
              "\n",
              "<div id=\"df-49e33db9-60fa-4f26-8392-e44afb608034\">\n",
              "  <button class=\"colab-df-quickchart\" onclick=\"quickchart('df-49e33db9-60fa-4f26-8392-e44afb608034')\"\n",
              "            title=\"Suggest charts\"\n",
              "            style=\"display:none;\">\n",
              "\n",
              "<svg xmlns=\"http://www.w3.org/2000/svg\" height=\"24px\"viewBox=\"0 0 24 24\"\n",
              "     width=\"24px\">\n",
              "    <g>\n",
              "        <path d=\"M19 3H5c-1.1 0-2 .9-2 2v14c0 1.1.9 2 2 2h14c1.1 0 2-.9 2-2V5c0-1.1-.9-2-2-2zM9 17H7v-7h2v7zm4 0h-2V7h2v10zm4 0h-2v-4h2v4z\"/>\n",
              "    </g>\n",
              "</svg>\n",
              "  </button>\n",
              "\n",
              "<style>\n",
              "  .colab-df-quickchart {\n",
              "      --bg-color: #E8F0FE;\n",
              "      --fill-color: #1967D2;\n",
              "      --hover-bg-color: #E2EBFA;\n",
              "      --hover-fill-color: #174EA6;\n",
              "      --disabled-fill-color: #AAA;\n",
              "      --disabled-bg-color: #DDD;\n",
              "  }\n",
              "\n",
              "  [theme=dark] .colab-df-quickchart {\n",
              "      --bg-color: #3B4455;\n",
              "      --fill-color: #D2E3FC;\n",
              "      --hover-bg-color: #434B5C;\n",
              "      --hover-fill-color: #FFFFFF;\n",
              "      --disabled-bg-color: #3B4455;\n",
              "      --disabled-fill-color: #666;\n",
              "  }\n",
              "\n",
              "  .colab-df-quickchart {\n",
              "    background-color: var(--bg-color);\n",
              "    border: none;\n",
              "    border-radius: 50%;\n",
              "    cursor: pointer;\n",
              "    display: none;\n",
              "    fill: var(--fill-color);\n",
              "    height: 32px;\n",
              "    padding: 0;\n",
              "    width: 32px;\n",
              "  }\n",
              "\n",
              "  .colab-df-quickchart:hover {\n",
              "    background-color: var(--hover-bg-color);\n",
              "    box-shadow: 0 1px 2px rgba(60, 64, 67, 0.3), 0 1px 3px 1px rgba(60, 64, 67, 0.15);\n",
              "    fill: var(--button-hover-fill-color);\n",
              "  }\n",
              "\n",
              "  .colab-df-quickchart-complete:disabled,\n",
              "  .colab-df-quickchart-complete:disabled:hover {\n",
              "    background-color: var(--disabled-bg-color);\n",
              "    fill: var(--disabled-fill-color);\n",
              "    box-shadow: none;\n",
              "  }\n",
              "\n",
              "  .colab-df-spinner {\n",
              "    border: 2px solid var(--fill-color);\n",
              "    border-color: transparent;\n",
              "    border-bottom-color: var(--fill-color);\n",
              "    animation:\n",
              "      spin 1s steps(1) infinite;\n",
              "  }\n",
              "\n",
              "  @keyframes spin {\n",
              "    0% {\n",
              "      border-color: transparent;\n",
              "      border-bottom-color: var(--fill-color);\n",
              "      border-left-color: var(--fill-color);\n",
              "    }\n",
              "    20% {\n",
              "      border-color: transparent;\n",
              "      border-left-color: var(--fill-color);\n",
              "      border-top-color: var(--fill-color);\n",
              "    }\n",
              "    30% {\n",
              "      border-color: transparent;\n",
              "      border-left-color: var(--fill-color);\n",
              "      border-top-color: var(--fill-color);\n",
              "      border-right-color: var(--fill-color);\n",
              "    }\n",
              "    40% {\n",
              "      border-color: transparent;\n",
              "      border-right-color: var(--fill-color);\n",
              "      border-top-color: var(--fill-color);\n",
              "    }\n",
              "    60% {\n",
              "      border-color: transparent;\n",
              "      border-right-color: var(--fill-color);\n",
              "    }\n",
              "    80% {\n",
              "      border-color: transparent;\n",
              "      border-right-color: var(--fill-color);\n",
              "      border-bottom-color: var(--fill-color);\n",
              "    }\n",
              "    90% {\n",
              "      border-color: transparent;\n",
              "      border-bottom-color: var(--fill-color);\n",
              "    }\n",
              "  }\n",
              "</style>\n",
              "\n",
              "  <script>\n",
              "    async function quickchart(key) {\n",
              "      const quickchartButtonEl =\n",
              "        document.querySelector('#' + key + ' button');\n",
              "      quickchartButtonEl.disabled = true;  // To prevent multiple clicks.\n",
              "      quickchartButtonEl.classList.add('colab-df-spinner');\n",
              "      try {\n",
              "        const charts = await google.colab.kernel.invokeFunction(\n",
              "            'suggestCharts', [key], {});\n",
              "      } catch (error) {\n",
              "        console.error('Error during call to suggestCharts:', error);\n",
              "      }\n",
              "      quickchartButtonEl.classList.remove('colab-df-spinner');\n",
              "      quickchartButtonEl.classList.add('colab-df-quickchart-complete');\n",
              "    }\n",
              "    (() => {\n",
              "      let quickchartButtonEl =\n",
              "        document.querySelector('#df-49e33db9-60fa-4f26-8392-e44afb608034 button');\n",
              "      quickchartButtonEl.style.display =\n",
              "        google.colab.kernel.accessAllowed ? 'block' : 'none';\n",
              "    })();\n",
              "  </script>\n",
              "</div>\n",
              "    </div>\n",
              "  </div>\n"
            ]
          },
          "metadata": {},
          "execution_count": 9
        }
      ]
    },
    {
      "cell_type": "code",
      "source": [
        "class_counts = dataframe['class_name'].value_counts(sort=True)\n",
        "print(class_counts)"
      ],
      "metadata": {
        "colab": {
          "base_uri": "https://localhost:8080/"
        },
        "id": "SRw2TxHxH8nZ",
        "outputId": "5c63c334-c602-4fdc-f112-865b06b5d26b"
      },
      "execution_count": 41,
      "outputs": [
        {
          "output_type": "stream",
          "name": "stdout",
          "text": [
            "Clear Cell RCC                               111\n",
            "Sarcomatoid RCC                               19\n",
            "Simple Cyst                                   18\n",
            "AML (fat reach)                               13\n",
            "SCC                                            9\n",
            "High Grade Urothelial Papillary Carcinoma      7\n",
            "Hydatid Cyst                                   7\n",
            "Papillary RCC type 2                           6\n",
            "Low Grade Papillary Urothelial Carcinoma       3\n",
            "Chromophobe RCC                                3\n",
            "Papillary RCC type 1                           3\n",
            "Name: class_name, dtype: int64\n"
          ]
        }
      ]
    },
    {
      "cell_type": "code",
      "source": [
        "classes = class_counts[class_counts >= 10].index\n",
        "classes"
      ],
      "metadata": {
        "colab": {
          "base_uri": "https://localhost:8080/"
        },
        "id": "t1M5FuBRK_Hg",
        "outputId": "8b8342c4-9dd2-480b-85e6-6343eb51ef04"
      },
      "execution_count": 11,
      "outputs": [
        {
          "output_type": "execute_result",
          "data": {
            "text/plain": [
              "Index(['Clear Cell RCC', 'Sarcomatoid RCC', 'Simple Cyst', 'AML (fat reach)'], dtype='object')"
            ]
          },
          "metadata": {},
          "execution_count": 11
        }
      ]
    },
    {
      "cell_type": "code",
      "source": [
        "dataframe_filtered = dataframe[dataframe.class_name.isin(classes)]\n",
        "dataframe_filtered.head()"
      ],
      "metadata": {
        "colab": {
          "base_uri": "https://localhost:8080/",
          "height": 206
        },
        "id": "IufMPXnML3C8",
        "outputId": "d49e59de-7a69-48ed-b10f-37885eab67a2"
      },
      "execution_count": 12,
      "outputs": [
        {
          "output_type": "execute_result",
          "data": {
            "text/plain": [
              "                                           image_path      class_name  label\n",
              "6   /content/Rencal Cancer merged/With Contrastive...  Clear Cell RCC      2\n",
              "7   /content/Rencal Cancer merged/With Contrastive...  Clear Cell RCC      2\n",
              "8   /content/Rencal Cancer merged/With Contrastive...  Clear Cell RCC      2\n",
              "9   /content/Rencal Cancer merged/With Contrastive...  Clear Cell RCC      2\n",
              "10  /content/Rencal Cancer merged/With Contrastive...  Clear Cell RCC      2"
            ],
            "text/html": [
              "\n",
              "  <div id=\"df-091ddaa3-000c-4245-8558-033a776a3463\" class=\"colab-df-container\">\n",
              "    <div>\n",
              "<style scoped>\n",
              "    .dataframe tbody tr th:only-of-type {\n",
              "        vertical-align: middle;\n",
              "    }\n",
              "\n",
              "    .dataframe tbody tr th {\n",
              "        vertical-align: top;\n",
              "    }\n",
              "\n",
              "    .dataframe thead th {\n",
              "        text-align: right;\n",
              "    }\n",
              "</style>\n",
              "<table border=\"1\" class=\"dataframe\">\n",
              "  <thead>\n",
              "    <tr style=\"text-align: right;\">\n",
              "      <th></th>\n",
              "      <th>image_path</th>\n",
              "      <th>class_name</th>\n",
              "      <th>label</th>\n",
              "    </tr>\n",
              "  </thead>\n",
              "  <tbody>\n",
              "    <tr>\n",
              "      <th>6</th>\n",
              "      <td>/content/Rencal Cancer merged/With Contrastive...</td>\n",
              "      <td>Clear Cell RCC</td>\n",
              "      <td>2</td>\n",
              "    </tr>\n",
              "    <tr>\n",
              "      <th>7</th>\n",
              "      <td>/content/Rencal Cancer merged/With Contrastive...</td>\n",
              "      <td>Clear Cell RCC</td>\n",
              "      <td>2</td>\n",
              "    </tr>\n",
              "    <tr>\n",
              "      <th>8</th>\n",
              "      <td>/content/Rencal Cancer merged/With Contrastive...</td>\n",
              "      <td>Clear Cell RCC</td>\n",
              "      <td>2</td>\n",
              "    </tr>\n",
              "    <tr>\n",
              "      <th>9</th>\n",
              "      <td>/content/Rencal Cancer merged/With Contrastive...</td>\n",
              "      <td>Clear Cell RCC</td>\n",
              "      <td>2</td>\n",
              "    </tr>\n",
              "    <tr>\n",
              "      <th>10</th>\n",
              "      <td>/content/Rencal Cancer merged/With Contrastive...</td>\n",
              "      <td>Clear Cell RCC</td>\n",
              "      <td>2</td>\n",
              "    </tr>\n",
              "  </tbody>\n",
              "</table>\n",
              "</div>\n",
              "    <div class=\"colab-df-buttons\">\n",
              "\n",
              "  <div class=\"colab-df-container\">\n",
              "    <button class=\"colab-df-convert\" onclick=\"convertToInteractive('df-091ddaa3-000c-4245-8558-033a776a3463')\"\n",
              "            title=\"Convert this dataframe to an interactive table.\"\n",
              "            style=\"display:none;\">\n",
              "\n",
              "  <svg xmlns=\"http://www.w3.org/2000/svg\" height=\"24px\" viewBox=\"0 -960 960 960\">\n",
              "    <path d=\"M120-120v-720h720v720H120Zm60-500h600v-160H180v160Zm220 220h160v-160H400v160Zm0 220h160v-160H400v160ZM180-400h160v-160H180v160Zm440 0h160v-160H620v160ZM180-180h160v-160H180v160Zm440 0h160v-160H620v160Z\"/>\n",
              "  </svg>\n",
              "    </button>\n",
              "\n",
              "  <style>\n",
              "    .colab-df-container {\n",
              "      display:flex;\n",
              "      gap: 12px;\n",
              "    }\n",
              "\n",
              "    .colab-df-convert {\n",
              "      background-color: #E8F0FE;\n",
              "      border: none;\n",
              "      border-radius: 50%;\n",
              "      cursor: pointer;\n",
              "      display: none;\n",
              "      fill: #1967D2;\n",
              "      height: 32px;\n",
              "      padding: 0 0 0 0;\n",
              "      width: 32px;\n",
              "    }\n",
              "\n",
              "    .colab-df-convert:hover {\n",
              "      background-color: #E2EBFA;\n",
              "      box-shadow: 0px 1px 2px rgba(60, 64, 67, 0.3), 0px 1px 3px 1px rgba(60, 64, 67, 0.15);\n",
              "      fill: #174EA6;\n",
              "    }\n",
              "\n",
              "    .colab-df-buttons div {\n",
              "      margin-bottom: 4px;\n",
              "    }\n",
              "\n",
              "    [theme=dark] .colab-df-convert {\n",
              "      background-color: #3B4455;\n",
              "      fill: #D2E3FC;\n",
              "    }\n",
              "\n",
              "    [theme=dark] .colab-df-convert:hover {\n",
              "      background-color: #434B5C;\n",
              "      box-shadow: 0px 1px 3px 1px rgba(0, 0, 0, 0.15);\n",
              "      filter: drop-shadow(0px 1px 2px rgba(0, 0, 0, 0.3));\n",
              "      fill: #FFFFFF;\n",
              "    }\n",
              "  </style>\n",
              "\n",
              "    <script>\n",
              "      const buttonEl =\n",
              "        document.querySelector('#df-091ddaa3-000c-4245-8558-033a776a3463 button.colab-df-convert');\n",
              "      buttonEl.style.display =\n",
              "        google.colab.kernel.accessAllowed ? 'block' : 'none';\n",
              "\n",
              "      async function convertToInteractive(key) {\n",
              "        const element = document.querySelector('#df-091ddaa3-000c-4245-8558-033a776a3463');\n",
              "        const dataTable =\n",
              "          await google.colab.kernel.invokeFunction('convertToInteractive',\n",
              "                                                    [key], {});\n",
              "        if (!dataTable) return;\n",
              "\n",
              "        const docLinkHtml = 'Like what you see? Visit the ' +\n",
              "          '<a target=\"_blank\" href=https://colab.research.google.com/notebooks/data_table.ipynb>data table notebook</a>'\n",
              "          + ' to learn more about interactive tables.';\n",
              "        element.innerHTML = '';\n",
              "        dataTable['output_type'] = 'display_data';\n",
              "        await google.colab.output.renderOutput(dataTable, element);\n",
              "        const docLink = document.createElement('div');\n",
              "        docLink.innerHTML = docLinkHtml;\n",
              "        element.appendChild(docLink);\n",
              "      }\n",
              "    </script>\n",
              "  </div>\n",
              "\n",
              "\n",
              "<div id=\"df-f22deff6-0042-4657-aa2b-b8aaa804535a\">\n",
              "  <button class=\"colab-df-quickchart\" onclick=\"quickchart('df-f22deff6-0042-4657-aa2b-b8aaa804535a')\"\n",
              "            title=\"Suggest charts\"\n",
              "            style=\"display:none;\">\n",
              "\n",
              "<svg xmlns=\"http://www.w3.org/2000/svg\" height=\"24px\"viewBox=\"0 0 24 24\"\n",
              "     width=\"24px\">\n",
              "    <g>\n",
              "        <path d=\"M19 3H5c-1.1 0-2 .9-2 2v14c0 1.1.9 2 2 2h14c1.1 0 2-.9 2-2V5c0-1.1-.9-2-2-2zM9 17H7v-7h2v7zm4 0h-2V7h2v10zm4 0h-2v-4h2v4z\"/>\n",
              "    </g>\n",
              "</svg>\n",
              "  </button>\n",
              "\n",
              "<style>\n",
              "  .colab-df-quickchart {\n",
              "      --bg-color: #E8F0FE;\n",
              "      --fill-color: #1967D2;\n",
              "      --hover-bg-color: #E2EBFA;\n",
              "      --hover-fill-color: #174EA6;\n",
              "      --disabled-fill-color: #AAA;\n",
              "      --disabled-bg-color: #DDD;\n",
              "  }\n",
              "\n",
              "  [theme=dark] .colab-df-quickchart {\n",
              "      --bg-color: #3B4455;\n",
              "      --fill-color: #D2E3FC;\n",
              "      --hover-bg-color: #434B5C;\n",
              "      --hover-fill-color: #FFFFFF;\n",
              "      --disabled-bg-color: #3B4455;\n",
              "      --disabled-fill-color: #666;\n",
              "  }\n",
              "\n",
              "  .colab-df-quickchart {\n",
              "    background-color: var(--bg-color);\n",
              "    border: none;\n",
              "    border-radius: 50%;\n",
              "    cursor: pointer;\n",
              "    display: none;\n",
              "    fill: var(--fill-color);\n",
              "    height: 32px;\n",
              "    padding: 0;\n",
              "    width: 32px;\n",
              "  }\n",
              "\n",
              "  .colab-df-quickchart:hover {\n",
              "    background-color: var(--hover-bg-color);\n",
              "    box-shadow: 0 1px 2px rgba(60, 64, 67, 0.3), 0 1px 3px 1px rgba(60, 64, 67, 0.15);\n",
              "    fill: var(--button-hover-fill-color);\n",
              "  }\n",
              "\n",
              "  .colab-df-quickchart-complete:disabled,\n",
              "  .colab-df-quickchart-complete:disabled:hover {\n",
              "    background-color: var(--disabled-bg-color);\n",
              "    fill: var(--disabled-fill-color);\n",
              "    box-shadow: none;\n",
              "  }\n",
              "\n",
              "  .colab-df-spinner {\n",
              "    border: 2px solid var(--fill-color);\n",
              "    border-color: transparent;\n",
              "    border-bottom-color: var(--fill-color);\n",
              "    animation:\n",
              "      spin 1s steps(1) infinite;\n",
              "  }\n",
              "\n",
              "  @keyframes spin {\n",
              "    0% {\n",
              "      border-color: transparent;\n",
              "      border-bottom-color: var(--fill-color);\n",
              "      border-left-color: var(--fill-color);\n",
              "    }\n",
              "    20% {\n",
              "      border-color: transparent;\n",
              "      border-left-color: var(--fill-color);\n",
              "      border-top-color: var(--fill-color);\n",
              "    }\n",
              "    30% {\n",
              "      border-color: transparent;\n",
              "      border-left-color: var(--fill-color);\n",
              "      border-top-color: var(--fill-color);\n",
              "      border-right-color: var(--fill-color);\n",
              "    }\n",
              "    40% {\n",
              "      border-color: transparent;\n",
              "      border-right-color: var(--fill-color);\n",
              "      border-top-color: var(--fill-color);\n",
              "    }\n",
              "    60% {\n",
              "      border-color: transparent;\n",
              "      border-right-color: var(--fill-color);\n",
              "    }\n",
              "    80% {\n",
              "      border-color: transparent;\n",
              "      border-right-color: var(--fill-color);\n",
              "      border-bottom-color: var(--fill-color);\n",
              "    }\n",
              "    90% {\n",
              "      border-color: transparent;\n",
              "      border-bottom-color: var(--fill-color);\n",
              "    }\n",
              "  }\n",
              "</style>\n",
              "\n",
              "  <script>\n",
              "    async function quickchart(key) {\n",
              "      const quickchartButtonEl =\n",
              "        document.querySelector('#' + key + ' button');\n",
              "      quickchartButtonEl.disabled = true;  // To prevent multiple clicks.\n",
              "      quickchartButtonEl.classList.add('colab-df-spinner');\n",
              "      try {\n",
              "        const charts = await google.colab.kernel.invokeFunction(\n",
              "            'suggestCharts', [key], {});\n",
              "      } catch (error) {\n",
              "        console.error('Error during call to suggestCharts:', error);\n",
              "      }\n",
              "      quickchartButtonEl.classList.remove('colab-df-spinner');\n",
              "      quickchartButtonEl.classList.add('colab-df-quickchart-complete');\n",
              "    }\n",
              "    (() => {\n",
              "      let quickchartButtonEl =\n",
              "        document.querySelector('#df-f22deff6-0042-4657-aa2b-b8aaa804535a button');\n",
              "      quickchartButtonEl.style.display =\n",
              "        google.colab.kernel.accessAllowed ? 'block' : 'none';\n",
              "    })();\n",
              "  </script>\n",
              "</div>\n",
              "    </div>\n",
              "  </div>\n"
            ]
          },
          "metadata": {},
          "execution_count": 12
        }
      ]
    },
    {
      "cell_type": "code",
      "source": [
        "dataframe_filtered['class_name'].value_counts()"
      ],
      "metadata": {
        "colab": {
          "base_uri": "https://localhost:8080/"
        },
        "id": "CdF41UhKNNUg",
        "outputId": "7ab08d8d-989a-4d79-aa86-7cdf11ef60af"
      },
      "execution_count": 43,
      "outputs": [
        {
          "output_type": "execute_result",
          "data": {
            "text/plain": [
              "Clear Cell RCC     111\n",
              "Sarcomatoid RCC     19\n",
              "Simple Cyst         18\n",
              "AML (fat reach)     13\n",
              "Name: class_name, dtype: int64"
            ]
          },
          "metadata": {},
          "execution_count": 43
        }
      ]
    },
    {
      "cell_type": "code",
      "source": [
        "for i in range(len(classes)):\n",
        "  class_indicies = dataframe_filtered['class_name'] == classes[i]\n",
        "  dataframe_filtered.loc[class_indicies, 'label'] = i"
      ],
      "metadata": {
        "id": "xNggfmQRQbA4"
      },
      "execution_count": 44,
      "outputs": []
    },
    {
      "cell_type": "code",
      "source": [
        "dataframe_filtered.head()"
      ],
      "metadata": {
        "colab": {
          "base_uri": "https://localhost:8080/",
          "height": 206
        },
        "id": "tAlyvjzcrYqs",
        "outputId": "824446b4-5551-4ee4-874d-90aa912c601f"
      },
      "execution_count": 52,
      "outputs": [
        {
          "output_type": "execute_result",
          "data": {
            "text/plain": [
              "                                           image_path      class_name  label\n",
              "6   /content/Rencal Cancer merged/With Contrastive...  Clear Cell RCC      0\n",
              "7   /content/Rencal Cancer merged/With Contrastive...  Clear Cell RCC      0\n",
              "8   /content/Rencal Cancer merged/With Contrastive...  Clear Cell RCC      0\n",
              "9   /content/Rencal Cancer merged/With Contrastive...  Clear Cell RCC      0\n",
              "10  /content/Rencal Cancer merged/With Contrastive...  Clear Cell RCC      0"
            ],
            "text/html": [
              "\n",
              "  <div id=\"df-a27e0287-1f4f-47a2-b170-ceedade6ea2e\" class=\"colab-df-container\">\n",
              "    <div>\n",
              "<style scoped>\n",
              "    .dataframe tbody tr th:only-of-type {\n",
              "        vertical-align: middle;\n",
              "    }\n",
              "\n",
              "    .dataframe tbody tr th {\n",
              "        vertical-align: top;\n",
              "    }\n",
              "\n",
              "    .dataframe thead th {\n",
              "        text-align: right;\n",
              "    }\n",
              "</style>\n",
              "<table border=\"1\" class=\"dataframe\">\n",
              "  <thead>\n",
              "    <tr style=\"text-align: right;\">\n",
              "      <th></th>\n",
              "      <th>image_path</th>\n",
              "      <th>class_name</th>\n",
              "      <th>label</th>\n",
              "    </tr>\n",
              "  </thead>\n",
              "  <tbody>\n",
              "    <tr>\n",
              "      <th>6</th>\n",
              "      <td>/content/Rencal Cancer merged/With Contrastive...</td>\n",
              "      <td>Clear Cell RCC</td>\n",
              "      <td>0</td>\n",
              "    </tr>\n",
              "    <tr>\n",
              "      <th>7</th>\n",
              "      <td>/content/Rencal Cancer merged/With Contrastive...</td>\n",
              "      <td>Clear Cell RCC</td>\n",
              "      <td>0</td>\n",
              "    </tr>\n",
              "    <tr>\n",
              "      <th>8</th>\n",
              "      <td>/content/Rencal Cancer merged/With Contrastive...</td>\n",
              "      <td>Clear Cell RCC</td>\n",
              "      <td>0</td>\n",
              "    </tr>\n",
              "    <tr>\n",
              "      <th>9</th>\n",
              "      <td>/content/Rencal Cancer merged/With Contrastive...</td>\n",
              "      <td>Clear Cell RCC</td>\n",
              "      <td>0</td>\n",
              "    </tr>\n",
              "    <tr>\n",
              "      <th>10</th>\n",
              "      <td>/content/Rencal Cancer merged/With Contrastive...</td>\n",
              "      <td>Clear Cell RCC</td>\n",
              "      <td>0</td>\n",
              "    </tr>\n",
              "  </tbody>\n",
              "</table>\n",
              "</div>\n",
              "    <div class=\"colab-df-buttons\">\n",
              "\n",
              "  <div class=\"colab-df-container\">\n",
              "    <button class=\"colab-df-convert\" onclick=\"convertToInteractive('df-a27e0287-1f4f-47a2-b170-ceedade6ea2e')\"\n",
              "            title=\"Convert this dataframe to an interactive table.\"\n",
              "            style=\"display:none;\">\n",
              "\n",
              "  <svg xmlns=\"http://www.w3.org/2000/svg\" height=\"24px\" viewBox=\"0 -960 960 960\">\n",
              "    <path d=\"M120-120v-720h720v720H120Zm60-500h600v-160H180v160Zm220 220h160v-160H400v160Zm0 220h160v-160H400v160ZM180-400h160v-160H180v160Zm440 0h160v-160H620v160ZM180-180h160v-160H180v160Zm440 0h160v-160H620v160Z\"/>\n",
              "  </svg>\n",
              "    </button>\n",
              "\n",
              "  <style>\n",
              "    .colab-df-container {\n",
              "      display:flex;\n",
              "      gap: 12px;\n",
              "    }\n",
              "\n",
              "    .colab-df-convert {\n",
              "      background-color: #E8F0FE;\n",
              "      border: none;\n",
              "      border-radius: 50%;\n",
              "      cursor: pointer;\n",
              "      display: none;\n",
              "      fill: #1967D2;\n",
              "      height: 32px;\n",
              "      padding: 0 0 0 0;\n",
              "      width: 32px;\n",
              "    }\n",
              "\n",
              "    .colab-df-convert:hover {\n",
              "      background-color: #E2EBFA;\n",
              "      box-shadow: 0px 1px 2px rgba(60, 64, 67, 0.3), 0px 1px 3px 1px rgba(60, 64, 67, 0.15);\n",
              "      fill: #174EA6;\n",
              "    }\n",
              "\n",
              "    .colab-df-buttons div {\n",
              "      margin-bottom: 4px;\n",
              "    }\n",
              "\n",
              "    [theme=dark] .colab-df-convert {\n",
              "      background-color: #3B4455;\n",
              "      fill: #D2E3FC;\n",
              "    }\n",
              "\n",
              "    [theme=dark] .colab-df-convert:hover {\n",
              "      background-color: #434B5C;\n",
              "      box-shadow: 0px 1px 3px 1px rgba(0, 0, 0, 0.15);\n",
              "      filter: drop-shadow(0px 1px 2px rgba(0, 0, 0, 0.3));\n",
              "      fill: #FFFFFF;\n",
              "    }\n",
              "  </style>\n",
              "\n",
              "    <script>\n",
              "      const buttonEl =\n",
              "        document.querySelector('#df-a27e0287-1f4f-47a2-b170-ceedade6ea2e button.colab-df-convert');\n",
              "      buttonEl.style.display =\n",
              "        google.colab.kernel.accessAllowed ? 'block' : 'none';\n",
              "\n",
              "      async function convertToInteractive(key) {\n",
              "        const element = document.querySelector('#df-a27e0287-1f4f-47a2-b170-ceedade6ea2e');\n",
              "        const dataTable =\n",
              "          await google.colab.kernel.invokeFunction('convertToInteractive',\n",
              "                                                    [key], {});\n",
              "        if (!dataTable) return;\n",
              "\n",
              "        const docLinkHtml = 'Like what you see? Visit the ' +\n",
              "          '<a target=\"_blank\" href=https://colab.research.google.com/notebooks/data_table.ipynb>data table notebook</a>'\n",
              "          + ' to learn more about interactive tables.';\n",
              "        element.innerHTML = '';\n",
              "        dataTable['output_type'] = 'display_data';\n",
              "        await google.colab.output.renderOutput(dataTable, element);\n",
              "        const docLink = document.createElement('div');\n",
              "        docLink.innerHTML = docLinkHtml;\n",
              "        element.appendChild(docLink);\n",
              "      }\n",
              "    </script>\n",
              "  </div>\n",
              "\n",
              "\n",
              "<div id=\"df-ae511095-f9d9-4227-b58e-b3c743917caf\">\n",
              "  <button class=\"colab-df-quickchart\" onclick=\"quickchart('df-ae511095-f9d9-4227-b58e-b3c743917caf')\"\n",
              "            title=\"Suggest charts\"\n",
              "            style=\"display:none;\">\n",
              "\n",
              "<svg xmlns=\"http://www.w3.org/2000/svg\" height=\"24px\"viewBox=\"0 0 24 24\"\n",
              "     width=\"24px\">\n",
              "    <g>\n",
              "        <path d=\"M19 3H5c-1.1 0-2 .9-2 2v14c0 1.1.9 2 2 2h14c1.1 0 2-.9 2-2V5c0-1.1-.9-2-2-2zM9 17H7v-7h2v7zm4 0h-2V7h2v10zm4 0h-2v-4h2v4z\"/>\n",
              "    </g>\n",
              "</svg>\n",
              "  </button>\n",
              "\n",
              "<style>\n",
              "  .colab-df-quickchart {\n",
              "      --bg-color: #E8F0FE;\n",
              "      --fill-color: #1967D2;\n",
              "      --hover-bg-color: #E2EBFA;\n",
              "      --hover-fill-color: #174EA6;\n",
              "      --disabled-fill-color: #AAA;\n",
              "      --disabled-bg-color: #DDD;\n",
              "  }\n",
              "\n",
              "  [theme=dark] .colab-df-quickchart {\n",
              "      --bg-color: #3B4455;\n",
              "      --fill-color: #D2E3FC;\n",
              "      --hover-bg-color: #434B5C;\n",
              "      --hover-fill-color: #FFFFFF;\n",
              "      --disabled-bg-color: #3B4455;\n",
              "      --disabled-fill-color: #666;\n",
              "  }\n",
              "\n",
              "  .colab-df-quickchart {\n",
              "    background-color: var(--bg-color);\n",
              "    border: none;\n",
              "    border-radius: 50%;\n",
              "    cursor: pointer;\n",
              "    display: none;\n",
              "    fill: var(--fill-color);\n",
              "    height: 32px;\n",
              "    padding: 0;\n",
              "    width: 32px;\n",
              "  }\n",
              "\n",
              "  .colab-df-quickchart:hover {\n",
              "    background-color: var(--hover-bg-color);\n",
              "    box-shadow: 0 1px 2px rgba(60, 64, 67, 0.3), 0 1px 3px 1px rgba(60, 64, 67, 0.15);\n",
              "    fill: var(--button-hover-fill-color);\n",
              "  }\n",
              "\n",
              "  .colab-df-quickchart-complete:disabled,\n",
              "  .colab-df-quickchart-complete:disabled:hover {\n",
              "    background-color: var(--disabled-bg-color);\n",
              "    fill: var(--disabled-fill-color);\n",
              "    box-shadow: none;\n",
              "  }\n",
              "\n",
              "  .colab-df-spinner {\n",
              "    border: 2px solid var(--fill-color);\n",
              "    border-color: transparent;\n",
              "    border-bottom-color: var(--fill-color);\n",
              "    animation:\n",
              "      spin 1s steps(1) infinite;\n",
              "  }\n",
              "\n",
              "  @keyframes spin {\n",
              "    0% {\n",
              "      border-color: transparent;\n",
              "      border-bottom-color: var(--fill-color);\n",
              "      border-left-color: var(--fill-color);\n",
              "    }\n",
              "    20% {\n",
              "      border-color: transparent;\n",
              "      border-left-color: var(--fill-color);\n",
              "      border-top-color: var(--fill-color);\n",
              "    }\n",
              "    30% {\n",
              "      border-color: transparent;\n",
              "      border-left-color: var(--fill-color);\n",
              "      border-top-color: var(--fill-color);\n",
              "      border-right-color: var(--fill-color);\n",
              "    }\n",
              "    40% {\n",
              "      border-color: transparent;\n",
              "      border-right-color: var(--fill-color);\n",
              "      border-top-color: var(--fill-color);\n",
              "    }\n",
              "    60% {\n",
              "      border-color: transparent;\n",
              "      border-right-color: var(--fill-color);\n",
              "    }\n",
              "    80% {\n",
              "      border-color: transparent;\n",
              "      border-right-color: var(--fill-color);\n",
              "      border-bottom-color: var(--fill-color);\n",
              "    }\n",
              "    90% {\n",
              "      border-color: transparent;\n",
              "      border-bottom-color: var(--fill-color);\n",
              "    }\n",
              "  }\n",
              "</style>\n",
              "\n",
              "  <script>\n",
              "    async function quickchart(key) {\n",
              "      const quickchartButtonEl =\n",
              "        document.querySelector('#' + key + ' button');\n",
              "      quickchartButtonEl.disabled = true;  // To prevent multiple clicks.\n",
              "      quickchartButtonEl.classList.add('colab-df-spinner');\n",
              "      try {\n",
              "        const charts = await google.colab.kernel.invokeFunction(\n",
              "            'suggestCharts', [key], {});\n",
              "      } catch (error) {\n",
              "        console.error('Error during call to suggestCharts:', error);\n",
              "      }\n",
              "      quickchartButtonEl.classList.remove('colab-df-spinner');\n",
              "      quickchartButtonEl.classList.add('colab-df-quickchart-complete');\n",
              "    }\n",
              "    (() => {\n",
              "      let quickchartButtonEl =\n",
              "        document.querySelector('#df-ae511095-f9d9-4227-b58e-b3c743917caf button');\n",
              "      quickchartButtonEl.style.display =\n",
              "        google.colab.kernel.accessAllowed ? 'block' : 'none';\n",
              "    })();\n",
              "  </script>\n",
              "</div>\n",
              "    </div>\n",
              "  </div>\n"
            ]
          },
          "metadata": {},
          "execution_count": 52
        }
      ]
    },
    {
      "cell_type": "markdown",
      "source": [
        "# Dataset and Dataloader"
      ],
      "metadata": {
        "id": "Q_VGlCrJOiEY"
      }
    },
    {
      "cell_type": "code",
      "source": [
        "class RencalCancerDataset(Dataset):\n",
        "    def __init__(self, df, transform=None):\n",
        "        self.dataframe = df\n",
        "        self.trasnform = transform\n",
        "\n",
        "    def __len__(self):\n",
        "        return len(self.dataframe)\n",
        "\n",
        "    def __getitem__(self, index):\n",
        "\n",
        "        image_path, label = self.dataframe[['image_path', 'label']].iloc[index]\n",
        "\n",
        "        image = cv2.imread(image_path)\n",
        "        # image = Image.open(image_path)\n",
        "        image = self.trasnform(image)\n",
        "\n",
        "        return image, label"
      ],
      "metadata": {
        "id": "Fz2DlNSQmxj6"
      },
      "execution_count": 88,
      "outputs": []
    },
    {
      "cell_type": "code",
      "source": [
        "train_data, test_data = train_test_split(dataframe_filtered, test_size=0.2, random_state=42)"
      ],
      "metadata": {
        "id": "Vfeib19wtAh1"
      },
      "execution_count": 89,
      "outputs": []
    },
    {
      "cell_type": "code",
      "source": [
        "train_data.head()"
      ],
      "metadata": {
        "colab": {
          "base_uri": "https://localhost:8080/",
          "height": 206
        },
        "id": "houg83-1tnfX",
        "outputId": "22a3253e-573d-408b-8e6c-80a955aac6c0"
      },
      "execution_count": 90,
      "outputs": [
        {
          "output_type": "execute_result",
          "data": {
            "text/plain": [
              "                                            image_path      class_name  label\n",
              "131  /content/Rencal Cancer merged/With Contrastive...     Simple Cyst      2\n",
              "8    /content/Rencal Cancer merged/With Contrastive...  Clear Cell RCC      0\n",
              "139  /content/Rencal Cancer merged/With Contrastive...     Simple Cyst      2\n",
              "51   /content/Rencal Cancer merged/With Contrastive...  Clear Cell RCC      0\n",
              "48   /content/Rencal Cancer merged/With Contrastive...  Clear Cell RCC      0"
            ],
            "text/html": [
              "\n",
              "  <div id=\"df-1c1a6ab7-c6e1-4e01-82aa-ad34dddf4a87\" class=\"colab-df-container\">\n",
              "    <div>\n",
              "<style scoped>\n",
              "    .dataframe tbody tr th:only-of-type {\n",
              "        vertical-align: middle;\n",
              "    }\n",
              "\n",
              "    .dataframe tbody tr th {\n",
              "        vertical-align: top;\n",
              "    }\n",
              "\n",
              "    .dataframe thead th {\n",
              "        text-align: right;\n",
              "    }\n",
              "</style>\n",
              "<table border=\"1\" class=\"dataframe\">\n",
              "  <thead>\n",
              "    <tr style=\"text-align: right;\">\n",
              "      <th></th>\n",
              "      <th>image_path</th>\n",
              "      <th>class_name</th>\n",
              "      <th>label</th>\n",
              "    </tr>\n",
              "  </thead>\n",
              "  <tbody>\n",
              "    <tr>\n",
              "      <th>131</th>\n",
              "      <td>/content/Rencal Cancer merged/With Contrastive...</td>\n",
              "      <td>Simple Cyst</td>\n",
              "      <td>2</td>\n",
              "    </tr>\n",
              "    <tr>\n",
              "      <th>8</th>\n",
              "      <td>/content/Rencal Cancer merged/With Contrastive...</td>\n",
              "      <td>Clear Cell RCC</td>\n",
              "      <td>0</td>\n",
              "    </tr>\n",
              "    <tr>\n",
              "      <th>139</th>\n",
              "      <td>/content/Rencal Cancer merged/With Contrastive...</td>\n",
              "      <td>Simple Cyst</td>\n",
              "      <td>2</td>\n",
              "    </tr>\n",
              "    <tr>\n",
              "      <th>51</th>\n",
              "      <td>/content/Rencal Cancer merged/With Contrastive...</td>\n",
              "      <td>Clear Cell RCC</td>\n",
              "      <td>0</td>\n",
              "    </tr>\n",
              "    <tr>\n",
              "      <th>48</th>\n",
              "      <td>/content/Rencal Cancer merged/With Contrastive...</td>\n",
              "      <td>Clear Cell RCC</td>\n",
              "      <td>0</td>\n",
              "    </tr>\n",
              "  </tbody>\n",
              "</table>\n",
              "</div>\n",
              "    <div class=\"colab-df-buttons\">\n",
              "\n",
              "  <div class=\"colab-df-container\">\n",
              "    <button class=\"colab-df-convert\" onclick=\"convertToInteractive('df-1c1a6ab7-c6e1-4e01-82aa-ad34dddf4a87')\"\n",
              "            title=\"Convert this dataframe to an interactive table.\"\n",
              "            style=\"display:none;\">\n",
              "\n",
              "  <svg xmlns=\"http://www.w3.org/2000/svg\" height=\"24px\" viewBox=\"0 -960 960 960\">\n",
              "    <path d=\"M120-120v-720h720v720H120Zm60-500h600v-160H180v160Zm220 220h160v-160H400v160Zm0 220h160v-160H400v160ZM180-400h160v-160H180v160Zm440 0h160v-160H620v160ZM180-180h160v-160H180v160Zm440 0h160v-160H620v160Z\"/>\n",
              "  </svg>\n",
              "    </button>\n",
              "\n",
              "  <style>\n",
              "    .colab-df-container {\n",
              "      display:flex;\n",
              "      gap: 12px;\n",
              "    }\n",
              "\n",
              "    .colab-df-convert {\n",
              "      background-color: #E8F0FE;\n",
              "      border: none;\n",
              "      border-radius: 50%;\n",
              "      cursor: pointer;\n",
              "      display: none;\n",
              "      fill: #1967D2;\n",
              "      height: 32px;\n",
              "      padding: 0 0 0 0;\n",
              "      width: 32px;\n",
              "    }\n",
              "\n",
              "    .colab-df-convert:hover {\n",
              "      background-color: #E2EBFA;\n",
              "      box-shadow: 0px 1px 2px rgba(60, 64, 67, 0.3), 0px 1px 3px 1px rgba(60, 64, 67, 0.15);\n",
              "      fill: #174EA6;\n",
              "    }\n",
              "\n",
              "    .colab-df-buttons div {\n",
              "      margin-bottom: 4px;\n",
              "    }\n",
              "\n",
              "    [theme=dark] .colab-df-convert {\n",
              "      background-color: #3B4455;\n",
              "      fill: #D2E3FC;\n",
              "    }\n",
              "\n",
              "    [theme=dark] .colab-df-convert:hover {\n",
              "      background-color: #434B5C;\n",
              "      box-shadow: 0px 1px 3px 1px rgba(0, 0, 0, 0.15);\n",
              "      filter: drop-shadow(0px 1px 2px rgba(0, 0, 0, 0.3));\n",
              "      fill: #FFFFFF;\n",
              "    }\n",
              "  </style>\n",
              "\n",
              "    <script>\n",
              "      const buttonEl =\n",
              "        document.querySelector('#df-1c1a6ab7-c6e1-4e01-82aa-ad34dddf4a87 button.colab-df-convert');\n",
              "      buttonEl.style.display =\n",
              "        google.colab.kernel.accessAllowed ? 'block' : 'none';\n",
              "\n",
              "      async function convertToInteractive(key) {\n",
              "        const element = document.querySelector('#df-1c1a6ab7-c6e1-4e01-82aa-ad34dddf4a87');\n",
              "        const dataTable =\n",
              "          await google.colab.kernel.invokeFunction('convertToInteractive',\n",
              "                                                    [key], {});\n",
              "        if (!dataTable) return;\n",
              "\n",
              "        const docLinkHtml = 'Like what you see? Visit the ' +\n",
              "          '<a target=\"_blank\" href=https://colab.research.google.com/notebooks/data_table.ipynb>data table notebook</a>'\n",
              "          + ' to learn more about interactive tables.';\n",
              "        element.innerHTML = '';\n",
              "        dataTable['output_type'] = 'display_data';\n",
              "        await google.colab.output.renderOutput(dataTable, element);\n",
              "        const docLink = document.createElement('div');\n",
              "        docLink.innerHTML = docLinkHtml;\n",
              "        element.appendChild(docLink);\n",
              "      }\n",
              "    </script>\n",
              "  </div>\n",
              "\n",
              "\n",
              "<div id=\"df-d89dae17-b28e-489d-90ca-da3077e21ab6\">\n",
              "  <button class=\"colab-df-quickchart\" onclick=\"quickchart('df-d89dae17-b28e-489d-90ca-da3077e21ab6')\"\n",
              "            title=\"Suggest charts\"\n",
              "            style=\"display:none;\">\n",
              "\n",
              "<svg xmlns=\"http://www.w3.org/2000/svg\" height=\"24px\"viewBox=\"0 0 24 24\"\n",
              "     width=\"24px\">\n",
              "    <g>\n",
              "        <path d=\"M19 3H5c-1.1 0-2 .9-2 2v14c0 1.1.9 2 2 2h14c1.1 0 2-.9 2-2V5c0-1.1-.9-2-2-2zM9 17H7v-7h2v7zm4 0h-2V7h2v10zm4 0h-2v-4h2v4z\"/>\n",
              "    </g>\n",
              "</svg>\n",
              "  </button>\n",
              "\n",
              "<style>\n",
              "  .colab-df-quickchart {\n",
              "      --bg-color: #E8F0FE;\n",
              "      --fill-color: #1967D2;\n",
              "      --hover-bg-color: #E2EBFA;\n",
              "      --hover-fill-color: #174EA6;\n",
              "      --disabled-fill-color: #AAA;\n",
              "      --disabled-bg-color: #DDD;\n",
              "  }\n",
              "\n",
              "  [theme=dark] .colab-df-quickchart {\n",
              "      --bg-color: #3B4455;\n",
              "      --fill-color: #D2E3FC;\n",
              "      --hover-bg-color: #434B5C;\n",
              "      --hover-fill-color: #FFFFFF;\n",
              "      --disabled-bg-color: #3B4455;\n",
              "      --disabled-fill-color: #666;\n",
              "  }\n",
              "\n",
              "  .colab-df-quickchart {\n",
              "    background-color: var(--bg-color);\n",
              "    border: none;\n",
              "    border-radius: 50%;\n",
              "    cursor: pointer;\n",
              "    display: none;\n",
              "    fill: var(--fill-color);\n",
              "    height: 32px;\n",
              "    padding: 0;\n",
              "    width: 32px;\n",
              "  }\n",
              "\n",
              "  .colab-df-quickchart:hover {\n",
              "    background-color: var(--hover-bg-color);\n",
              "    box-shadow: 0 1px 2px rgba(60, 64, 67, 0.3), 0 1px 3px 1px rgba(60, 64, 67, 0.15);\n",
              "    fill: var(--button-hover-fill-color);\n",
              "  }\n",
              "\n",
              "  .colab-df-quickchart-complete:disabled,\n",
              "  .colab-df-quickchart-complete:disabled:hover {\n",
              "    background-color: var(--disabled-bg-color);\n",
              "    fill: var(--disabled-fill-color);\n",
              "    box-shadow: none;\n",
              "  }\n",
              "\n",
              "  .colab-df-spinner {\n",
              "    border: 2px solid var(--fill-color);\n",
              "    border-color: transparent;\n",
              "    border-bottom-color: var(--fill-color);\n",
              "    animation:\n",
              "      spin 1s steps(1) infinite;\n",
              "  }\n",
              "\n",
              "  @keyframes spin {\n",
              "    0% {\n",
              "      border-color: transparent;\n",
              "      border-bottom-color: var(--fill-color);\n",
              "      border-left-color: var(--fill-color);\n",
              "    }\n",
              "    20% {\n",
              "      border-color: transparent;\n",
              "      border-left-color: var(--fill-color);\n",
              "      border-top-color: var(--fill-color);\n",
              "    }\n",
              "    30% {\n",
              "      border-color: transparent;\n",
              "      border-left-color: var(--fill-color);\n",
              "      border-top-color: var(--fill-color);\n",
              "      border-right-color: var(--fill-color);\n",
              "    }\n",
              "    40% {\n",
              "      border-color: transparent;\n",
              "      border-right-color: var(--fill-color);\n",
              "      border-top-color: var(--fill-color);\n",
              "    }\n",
              "    60% {\n",
              "      border-color: transparent;\n",
              "      border-right-color: var(--fill-color);\n",
              "    }\n",
              "    80% {\n",
              "      border-color: transparent;\n",
              "      border-right-color: var(--fill-color);\n",
              "      border-bottom-color: var(--fill-color);\n",
              "    }\n",
              "    90% {\n",
              "      border-color: transparent;\n",
              "      border-bottom-color: var(--fill-color);\n",
              "    }\n",
              "  }\n",
              "</style>\n",
              "\n",
              "  <script>\n",
              "    async function quickchart(key) {\n",
              "      const quickchartButtonEl =\n",
              "        document.querySelector('#' + key + ' button');\n",
              "      quickchartButtonEl.disabled = true;  // To prevent multiple clicks.\n",
              "      quickchartButtonEl.classList.add('colab-df-spinner');\n",
              "      try {\n",
              "        const charts = await google.colab.kernel.invokeFunction(\n",
              "            'suggestCharts', [key], {});\n",
              "      } catch (error) {\n",
              "        console.error('Error during call to suggestCharts:', error);\n",
              "      }\n",
              "      quickchartButtonEl.classList.remove('colab-df-spinner');\n",
              "      quickchartButtonEl.classList.add('colab-df-quickchart-complete');\n",
              "    }\n",
              "    (() => {\n",
              "      let quickchartButtonEl =\n",
              "        document.querySelector('#df-d89dae17-b28e-489d-90ca-da3077e21ab6 button');\n",
              "      quickchartButtonEl.style.display =\n",
              "        google.colab.kernel.accessAllowed ? 'block' : 'none';\n",
              "    })();\n",
              "  </script>\n",
              "</div>\n",
              "    </div>\n",
              "  </div>\n"
            ]
          },
          "metadata": {},
          "execution_count": 90
        }
      ]
    },
    {
      "cell_type": "code",
      "source": [
        "train_data['class_name'].value_counts()"
      ],
      "metadata": {
        "colab": {
          "base_uri": "https://localhost:8080/"
        },
        "id": "KEtv7LEsMtel",
        "outputId": "f5a079b7-7e41-42b4-fbfe-627db98884fb"
      },
      "execution_count": 91,
      "outputs": [
        {
          "output_type": "execute_result",
          "data": {
            "text/plain": [
              "Clear Cell RCC     85\n",
              "Simple Cyst        17\n",
              "Sarcomatoid RCC    15\n",
              "AML (fat reach)    11\n",
              "Name: class_name, dtype: int64"
            ]
          },
          "metadata": {},
          "execution_count": 91
        }
      ]
    },
    {
      "cell_type": "code",
      "source": [
        "datasets = {}\n",
        "phases = ['train', 'valid', 'test']"
      ],
      "metadata": {
        "id": "wAcftUC-rtmN"
      },
      "execution_count": 92,
      "outputs": []
    },
    {
      "cell_type": "code",
      "source": [
        "PILimage = T.Compose([\n",
        "    T.ToPILImage()\n",
        "])\n",
        "\n",
        "transformers = [\n",
        "    T.functional.vflip,\n",
        "    T.functional.hflip,\n",
        "    # T.RandomRotation((90, 90)),\n",
        "    # T.RandomRotation((180, 180)),\n",
        "    # T.RandomRotation((270, 270))\n",
        "]\n",
        "\n",
        "\n",
        "randomAug = T.RandomApply([T.RandomChoice(transformers)], p=0.5)\n",
        "\n",
        "train_transformations = T.Compose([\n",
        "    T.ToPILImage(),\n",
        "    T.CenterCrop((820, 900)),\n",
        "    T.Resize((224 , 224)),\n",
        "    T.RandomApply([T.RandomChoice(transformers)], p=0.5),\n",
        "    T.ToTensor(),\n",
        "])\n",
        "\n",
        "test_transformations = T.Compose([\n",
        "    T.ToPILImage(),\n",
        "    T.CenterCrop((820, 900)),\n",
        "    T.Resize((224 , 224)),\n",
        "    T.ToTensor(),\n",
        "])"
      ],
      "metadata": {
        "id": "yAsdeoY1t4h7"
      },
      "execution_count": 93,
      "outputs": []
    },
    {
      "cell_type": "code",
      "source": [
        "datasets['train'] = RencalCancerDataset(train_data, train_transformations)\n",
        "datasets['test'] = RencalCancerDataset(test_data, test_transformations)"
      ],
      "metadata": {
        "id": "8VBtoQk9rJuK"
      },
      "execution_count": 94,
      "outputs": []
    },
    {
      "cell_type": "code",
      "source": [
        "datasets['train'][10][0].shape"
      ],
      "metadata": {
        "colab": {
          "base_uri": "https://localhost:8080/"
        },
        "id": "0EQxiKtM69gW",
        "outputId": "9095e5c7-1431-4c36-aad2-b177b8945e26"
      },
      "execution_count": 95,
      "outputs": [
        {
          "output_type": "execute_result",
          "data": {
            "text/plain": [
              "torch.Size([3, 224, 224])"
            ]
          },
          "metadata": {},
          "execution_count": 95
        }
      ]
    },
    {
      "cell_type": "code",
      "source": [
        "plt.imshow(PILimage(datasets['test'][10][0]))"
      ],
      "metadata": {
        "colab": {
          "base_uri": "https://localhost:8080/",
          "height": 451
        },
        "id": "6LwMJ3KH03cG",
        "outputId": "e07f51c5-7be2-4009-bb1d-f790517dee17"
      },
      "execution_count": 96,
      "outputs": [
        {
          "output_type": "execute_result",
          "data": {
            "text/plain": [
              "<matplotlib.image.AxesImage at 0x7fa660646ce0>"
            ]
          },
          "metadata": {},
          "execution_count": 96
        },
        {
          "output_type": "display_data",
          "data": {
            "text/plain": [
              "<Figure size 640x480 with 1 Axes>"
            ],
            "image/png": "[encoded data removed]"
          },
          "metadata": {}
        }
      ]
    },
    {
      "cell_type": "code",
      "source": [
        "dataloaders = {}\n",
        "dataloaders['train'] = torch.utils.data.DataLoader(datasets['train'], shuffle=True, batch_size=32)\n",
        "dataloaders['test'] = torch.utils.data.DataLoader(datasets['test'], shuffle=False, batch_size=32)"
      ],
      "metadata": {
        "id": "JHq19ejounsD"
      },
      "execution_count": 97,
      "outputs": []
    },
    {
      "cell_type": "markdown",
      "source": [
        "# Train"
      ],
      "metadata": {
        "id": "HRwRQ4t4OwZv"
      }
    },
    {
      "cell_type": "code",
      "source": [
        "def one_epoch(model, loader, criterion, optimizer, scheduler, device, phase):\n",
        "\n",
        "  if phase == 'train':\n",
        "    model.train() # Set model to training mode\n",
        "  else:\n",
        "    model.eval()\n",
        "\n",
        "  running_loss = 0.0\n",
        "  running_accuracy = 0.0\n",
        "  running_precision = 0.0\n",
        "  running_recall = 0.0\n",
        "  running_f1_score = 0.0\n",
        "\n",
        "  # Iterate over data.\n",
        "  for inputs, labels in loader:\n",
        "    inputs = inputs.to(device)\n",
        "    labels = labels.type(torch.LongTensor).to(device)\n",
        "\n",
        "    # zero the parameter gradients\n",
        "    optimizer.zero_grad()\n",
        "\n",
        "    # forward\n",
        "    with torch.set_grad_enabled(phase == 'train'):\n",
        "      outputs = model(inputs)\n",
        "      _, preds = torch.max(outputs, 1)\n",
        "      loss = criterion(outputs, labels)\n",
        "\n",
        "      if phase == 'train':\n",
        "        loss.backward()\n",
        "        optimizer.step()\n",
        "\n",
        "    # statistics\n",
        "    running_loss += loss.item()\n",
        "    running_accuracy += sklearn.metrics.accuracy_score(labels.cpu(), preds.cpu())\n",
        "    running_precision += sklearn.metrics.precision_score(labels.cpu(), preds.cpu(), average='weighted', zero_division=0)\n",
        "    running_recall += sklearn.metrics.recall_score(labels.cpu(), preds.cpu(), average='weighted', zero_division=0)\n",
        "    running_f1_score += sklearn.metrics.f1_score(labels.cpu(), preds.cpu(), average='weighted', zero_division=0)\n",
        "\n",
        "    if phase == 'train' and  scheduler:\n",
        "        scheduler.step()\n",
        "\n",
        "  loss = running_loss / len(loader)\n",
        "  accuracy = running_accuracy / len(loader)\n",
        "  precision = running_precision / len(loader)\n",
        "  recall = running_recall / len(loader)\n",
        "  f1_score = running_f1_score / len(loader)\n",
        "\n",
        "  return loss, accuracy, precision, recall, f1_score"
      ],
      "metadata": {
        "id": "e9S9xBTCv0xA"
      },
      "execution_count": 98,
      "outputs": []
    },
    {
      "cell_type": "code",
      "source": [
        "def train(model, loaders, criterion, optimizer, num_epochs, device, scheduler=None):\n",
        "\n",
        "  best_val_loss = float('inf')\n",
        "  best_val_acc = 0\n",
        "  # best_model = None\n",
        "\n",
        "  accuracy_dic, loss_dic = {}, {}\n",
        "  loss_dic['train'], loss_dic['validation'] = [], []\n",
        "  accuracy_dic['train'], accuracy_dic['validation'] = [], []\n",
        "\n",
        "  for epoch in range(num_epochs):\n",
        "      train_loss, train_acc, train_precision, train_recall, train_f1 = one_epoch(model, loaders['train'], criterion, optimizer, scheduler, device, phase='train' )\n",
        "      # val_loss, val_acc, val_precision, val_recall, val_f1 = one_epoch(model, loaders['validation'], criterion, optimizer, scheduler, device, phase='validation')\n",
        "\n",
        "      loss_dic['train'].append(train_loss)\n",
        "      # loss_dic['validation'].append(val_loss)\n",
        "      accuracy_dic['train'].append(train_acc)\n",
        "      # accuracy_dic['validation'].append(val_acc)\n",
        "\n",
        "      # if val_loss < best_val_loss:\n",
        "      #   best_val_acc = val_acc\n",
        "      #   best_val_loss = val_loss\n",
        "      #   # best_model = model.state_dict()\n",
        "      #   torch.save(model.state_dict(), model_path)\n",
        "\n",
        "\n",
        "      print(f'Epoch [{epoch+1}/{num_epochs}] - '\n",
        "            f'Train Loss: {train_loss:.4f} - '\n",
        "            f'Train Accuracy: {train_acc:.4f} - '\n",
        "            f'Train Precision {train_precision:.4f} - '\n",
        "            f'Train Recall {train_recall:.4f} - '\n",
        "            f'Train F1-score {train_f1:.4f} ')\n",
        "            # f'Validation Loss: {val_loss:.4f} - '\n",
        "            # f'Validation Accuracy {val_acc:.4f} - '\n",
        "            # f'Validation Precision {val_precision:.4f} - '\n",
        "            # f'Validation Recall {val_recall:.4f} - '\n",
        "            # f'Validation F1-score {val_f1:.4f} ')\n",
        "\n",
        "  return loss_dic, accuracy_dic"
      ],
      "metadata": {
        "id": "Y8QU1wPBw4U9"
      },
      "execution_count": 99,
      "outputs": []
    },
    {
      "cell_type": "code",
      "source": [
        "def evaluate(model, loaders, criterion, optimizer, device, phase, scheduler=None):\n",
        "\n",
        "  loss, accuracy, precision, recall, f1_score = one_epoch(model, loaders[phase], criterion, optimizer, scheduler, device, 'test')\n",
        "\n",
        "  print(f'{phase} Loss: {loss:.4f} - '\n",
        "        f'{phase} Acuracy {accuracy:.2f} - '\n",
        "        f'{phase} Precision: {precision:.2f} - '\n",
        "        f'{phase} Recall {recall:.2f} - '\n",
        "        f'{phase} F1: {f1_score:.2f}')\n"
      ],
      "metadata": {
        "id": "BNoJL-fH98c7"
      },
      "execution_count": 100,
      "outputs": []
    },
    {
      "cell_type": "code",
      "source": [
        "def show_plots(num_epochs, data, metric):\n",
        "  e = np.arange(num_epochs)\n",
        "  plt.plot(e, data['train'], label='train '+metric)\n",
        "  # plt.plot(e, data['valid'], label='validation '+metric)\n",
        "  plt.xlabel('epoch')\n",
        "  plt.ylabel(metric)\n",
        "  plt.legend()"
      ],
      "metadata": {
        "id": "D4J8IESP9WOk"
      },
      "execution_count": 101,
      "outputs": []
    },
    {
      "cell_type": "code",
      "source": [
        "def plot_confusionmatrix(y_pred, y_true, classes):\n",
        "  print('Confusion matrix')\n",
        "  cf = sklearn.metrics.confusion_matrix(y_pred, y_true)\n",
        "  sns.heatmap(cf,annot=True,yticklabels=classes, xticklabels=classes, cmap='Blues', fmt='g')\n",
        "  plt.tight_layout()\n",
        "  plt.show()"
      ],
      "metadata": {
        "id": "nDn486cfyJB5"
      },
      "execution_count": 102,
      "outputs": []
    },
    {
      "cell_type": "code",
      "source": [
        "def report(model, loader, device, classes):\n",
        "\n",
        "  # Each epoch has a training and validation phase\n",
        "  model.eval()   # Set model to evaluate mode\n",
        "\n",
        "  y_pred = []\n",
        "  y_true = []\n",
        "\n",
        "  # Iterate over data.\n",
        "  for inputs, labels in loader:\n",
        "    inputs = inputs.to(device)\n",
        "    labels = labels.type(torch.LongTensor)\n",
        "\n",
        "    # forward\n",
        "    # track history if only in train\n",
        "    with torch.set_grad_enabled(False):\n",
        "      outputs = model(inputs)\n",
        "      _, preds = torch.max(outputs, 1)\n",
        "      y_pred.extend(preds.cpu())\n",
        "      y_true.extend(labels)\n",
        "\n",
        "  plot_confusionmatrix(y_pred, y_true, classes)"
      ],
      "metadata": {
        "id": "pwfdUMmy-M9l"
      },
      "execution_count": 103,
      "outputs": []
    },
    {
      "cell_type": "code",
      "source": [
        "model = torchvision.models.alexnet(pretrained=True)\n",
        "input_features = model.classifier[-1].in_features\n",
        "model.classifier[-1] = nn.Linear(in_features=input_features, out_features=len(classes), bias=True)\n",
        "\n",
        "model.to(device)"
      ],
      "metadata": {
        "id": "x-5_8hvRx_fq"
      },
      "execution_count": null,
      "outputs": []
    },
    {
      "cell_type": "code",
      "source": [
        "classes"
      ],
      "metadata": {
        "colab": {
          "base_uri": "https://localhost:8080/"
        },
        "id": "RvEtg3Dhvk-Z",
        "outputId": "e30daecc-60ac-4ba8-f393-9818c534c0ea"
      },
      "execution_count": 111,
      "outputs": [
        {
          "output_type": "execute_result",
          "data": {
            "text/plain": [
              "Index(['Clear Cell RCC', 'Sarcomatoid RCC', 'Simple Cyst', 'AML (fat reach)'], dtype='object')"
            ]
          },
          "metadata": {},
          "execution_count": 111
        }
      ]
    },
    {
      "cell_type": "code",
      "source": [
        "class_weights=compute_class_weight('balanced', classes=classes, y=train_data['class_name'])\n",
        "class_weights = torch.FloatTensor(class_weights).to(device)\n",
        "class_weights"
      ],
      "metadata": {
        "colab": {
          "base_uri": "https://localhost:8080/"
        },
        "id": "FWzxqTy1teC2",
        "outputId": "bbd1527d-70ae-4e40-f8e1-ef0e3ca954da"
      },
      "execution_count": 115,
      "outputs": [
        {
          "output_type": "execute_result",
          "data": {
            "text/plain": [
              "tensor([0.3765, 2.1333, 1.8824, 2.9091], device='cuda:0')"
            ]
          },
          "metadata": {},
          "execution_count": 115
        }
      ]
    },
    {
      "cell_type": "code",
      "source": [
        "model_path = '/content'"
      ],
      "metadata": {
        "id": "agRcVcHdxmhi"
      },
      "execution_count": 123,
      "outputs": []
    },
    {
      "cell_type": "code",
      "source": [
        "optimizer = optim.Adam(model.parameters(), lr=0.01)\n",
        "\n",
        "criterion = torch.nn.CrossEntropyLoss(weight=class_weights)\n",
        "\n",
        "num_epochs = 100"
      ],
      "metadata": {
        "id": "hTuKrHWrxi0j"
      },
      "execution_count": 116,
      "outputs": []
    },
    {
      "cell_type": "code",
      "source": [
        "loss_dic, accuracy_dic = train(model, dataloaders, criterion, optimizer, num_epochs, device, scheduler=None)"
      ],
      "metadata": {
        "id": "kKuGON2wxcBj",
        "colab": {
          "base_uri": "https://localhost:8080/"
        },
        "outputId": "4a3b0277-0d23-42ec-eb85-ebd783fd5366"
      },
      "execution_count": 117,
      "outputs": [
        {
          "output_type": "stream",
          "name": "stdout",
          "text": [
            "Epoch [1/100] - Train Loss: 6125.6829 - Train Accuracy: 0.1875 - Train Precision 0.0941 - Train Recall 0.1875 - Train F1-score 0.1169 \n",
            "Epoch [2/100] - Train Loss: 73.1603 - Train Accuracy: 0.2656 - Train Precision 0.3312 - Train Recall 0.2656 - Train F1-score 0.2662 \n",
            "Epoch [3/100] - Train Loss: 24.2337 - Train Accuracy: 0.3359 - Train Precision 0.3504 - Train Recall 0.3359 - Train F1-score 0.2767 \n",
            "Epoch [4/100] - Train Loss: 10.2349 - Train Accuracy: 0.2109 - Train Precision 0.2347 - Train Recall 0.2109 - Train F1-score 0.1647 \n",
            "Epoch [5/100] - Train Loss: 1.7087 - Train Accuracy: 0.2422 - Train Precision 0.4165 - Train Recall 0.2422 - Train F1-score 0.2023 \n",
            "Epoch [6/100] - Train Loss: 1.5453 - Train Accuracy: 0.1953 - Train Precision 0.1100 - Train Recall 0.1953 - Train F1-score 0.1298 \n",
            "Epoch [7/100] - Train Loss: 36.1568 - Train Accuracy: 0.4297 - Train Precision 0.3978 - Train Recall 0.4297 - Train F1-score 0.4073 \n",
            "Epoch [8/100] - Train Loss: 1.9116 - Train Accuracy: 0.1562 - Train Precision 0.0354 - Train Recall 0.1562 - Train F1-score 0.0571 \n",
            "Epoch [9/100] - Train Loss: 2.3109 - Train Accuracy: 0.0859 - Train Precision 0.0104 - Train Recall 0.0859 - Train F1-score 0.0183 \n",
            "Epoch [10/100] - Train Loss: 1.5097 - Train Accuracy: 0.5781 - Train Precision 0.4393 - Train Recall 0.5781 - Train F1-score 0.4896 \n",
            "Epoch [11/100] - Train Loss: 1.5205 - Train Accuracy: 0.2109 - Train Precision 0.1316 - Train Recall 0.2109 - Train F1-score 0.1517 \n",
            "Epoch [12/100] - Train Loss: 1.4199 - Train Accuracy: 0.1172 - Train Precision 0.0551 - Train Recall 0.1172 - Train F1-score 0.0564 \n",
            "Epoch [13/100] - Train Loss: 1.3810 - Train Accuracy: 0.5781 - Train Precision 0.4541 - Train Recall 0.5781 - Train F1-score 0.4977 \n",
            "Epoch [14/100] - Train Loss: 1.4134 - Train Accuracy: 0.5000 - Train Precision 0.4943 - Train Recall 0.5000 - Train F1-score 0.4514 \n",
            "Epoch [15/100] - Train Loss: 1.4458 - Train Accuracy: 0.0859 - Train Precision 0.0829 - Train Recall 0.0859 - Train F1-score 0.0531 \n",
            "Epoch [16/100] - Train Loss: 1.4383 - Train Accuracy: 0.2266 - Train Precision 0.4952 - Train Recall 0.2266 - Train F1-score 0.2176 \n",
            "Epoch [17/100] - Train Loss: 1.3994 - Train Accuracy: 0.3516 - Train Precision 0.4357 - Train Recall 0.3516 - Train F1-score 0.3486 \n",
            "Epoch [18/100] - Train Loss: 1.4486 - Train Accuracy: 0.1562 - Train Precision 0.3413 - Train Recall 0.1562 - Train F1-score 0.0986 \n",
            "Epoch [19/100] - Train Loss: 1.4944 - Train Accuracy: 0.1641 - Train Precision 0.5630 - Train Recall 0.1641 - Train F1-score 0.1957 \n",
            "Epoch [20/100] - Train Loss: 1.4337 - Train Accuracy: 0.3203 - Train Precision 0.5037 - Train Recall 0.3203 - Train F1-score 0.3533 \n",
            "Epoch [21/100] - Train Loss: 1.4250 - Train Accuracy: 0.2031 - Train Precision 0.4881 - Train Recall 0.2031 - Train F1-score 0.2495 \n",
            "Epoch [22/100] - Train Loss: 1.4194 - Train Accuracy: 0.2422 - Train Precision 0.4784 - Train Recall 0.2422 - Train F1-score 0.2273 \n",
            "Epoch [23/100] - Train Loss: 1.3897 - Train Accuracy: 0.2969 - Train Precision 0.5846 - Train Recall 0.2969 - Train F1-score 0.3183 \n",
            "Epoch [24/100] - Train Loss: 1.4117 - Train Accuracy: 0.1562 - Train Precision 0.3486 - Train Recall 0.1562 - Train F1-score 0.1540 \n",
            "Epoch [25/100] - Train Loss: 1.4590 - Train Accuracy: 0.1094 - Train Precision 0.3534 - Train Recall 0.1094 - Train F1-score 0.1178 \n",
            "Epoch [26/100] - Train Loss: 1.3883 - Train Accuracy: 0.3828 - Train Precision 0.4677 - Train Recall 0.3828 - Train F1-score 0.3952 \n",
            "Epoch [27/100] - Train Loss: 1.4283 - Train Accuracy: 0.3750 - Train Precision 0.4596 - Train Recall 0.3750 - Train F1-score 0.4090 \n",
            "Epoch [28/100] - Train Loss: 1.4237 - Train Accuracy: 0.1875 - Train Precision 0.4590 - Train Recall 0.1875 - Train F1-score 0.2173 \n",
            "Epoch [29/100] - Train Loss: 1.4365 - Train Accuracy: 0.1719 - Train Precision 0.4783 - Train Recall 0.1719 - Train F1-score 0.2188 \n",
            "Epoch [30/100] - Train Loss: 1.4156 - Train Accuracy: 0.1875 - Train Precision 0.3670 - Train Recall 0.1875 - Train F1-score 0.2172 \n",
            "Epoch [31/100] - Train Loss: 1.4137 - Train Accuracy: 0.2891 - Train Precision 0.5158 - Train Recall 0.2891 - Train F1-score 0.2976 \n",
            "Epoch [32/100] - Train Loss: 1.3796 - Train Accuracy: 0.2656 - Train Precision 0.4452 - Train Recall 0.2656 - Train F1-score 0.3048 \n",
            "Epoch [33/100] - Train Loss: 1.4192 - Train Accuracy: 0.1328 - Train Precision 0.6208 - Train Recall 0.1328 - Train F1-score 0.1270 \n",
            "Epoch [34/100] - Train Loss: 1.4019 - Train Accuracy: 0.1641 - Train Precision 0.5956 - Train Recall 0.1641 - Train F1-score 0.1400 \n",
            "Epoch [35/100] - Train Loss: 1.4033 - Train Accuracy: 0.2188 - Train Precision 0.4642 - Train Recall 0.2188 - Train F1-score 0.2532 \n",
            "Epoch [36/100] - Train Loss: 1.3982 - Train Accuracy: 0.3750 - Train Precision 0.4987 - Train Recall 0.3750 - Train F1-score 0.4077 \n",
            "Epoch [37/100] - Train Loss: 1.3885 - Train Accuracy: 0.3203 - Train Precision 0.4774 - Train Recall 0.3203 - Train F1-score 0.3545 \n",
            "Epoch [38/100] - Train Loss: 1.4342 - Train Accuracy: 0.1016 - Train Precision 0.4629 - Train Recall 0.1016 - Train F1-score 0.1147 \n",
            "Epoch [39/100] - Train Loss: 1.3981 - Train Accuracy: 0.3281 - Train Precision 0.5720 - Train Recall 0.3281 - Train F1-score 0.3762 \n",
            "Epoch [40/100] - Train Loss: 1.4201 - Train Accuracy: 0.3125 - Train Precision 0.4552 - Train Recall 0.3125 - Train F1-score 0.3541 \n",
            "Epoch [41/100] - Train Loss: 1.3700 - Train Accuracy: 0.2109 - Train Precision 0.4389 - Train Recall 0.2109 - Train F1-score 0.2057 \n",
            "Epoch [42/100] - Train Loss: 1.4231 - Train Accuracy: 0.1953 - Train Precision 0.4840 - Train Recall 0.1953 - Train F1-score 0.2204 \n",
            "Epoch [43/100] - Train Loss: 1.4147 - Train Accuracy: 0.1953 - Train Precision 0.4313 - Train Recall 0.1953 - Train F1-score 0.2261 \n",
            "Epoch [44/100] - Train Loss: 1.4035 - Train Accuracy: 0.2891 - Train Precision 0.5248 - Train Recall 0.2891 - Train F1-score 0.3250 \n",
            "Epoch [45/100] - Train Loss: 1.4079 - Train Accuracy: 0.2109 - Train Precision 0.5942 - Train Recall 0.2109 - Train F1-score 0.2328 \n",
            "Epoch [46/100] - Train Loss: 1.3971 - Train Accuracy: 0.1562 - Train Precision 0.4758 - Train Recall 0.1562 - Train F1-score 0.1969 \n",
            "Epoch [47/100] - Train Loss: 1.4080 - Train Accuracy: 0.2656 - Train Precision 0.5092 - Train Recall 0.2656 - Train F1-score 0.3304 \n",
            "Epoch [48/100] - Train Loss: 1.3953 - Train Accuracy: 0.2500 - Train Precision 0.5043 - Train Recall 0.2500 - Train F1-score 0.2762 \n",
            "Epoch [49/100] - Train Loss: 1.3872 - Train Accuracy: 0.3516 - Train Precision 0.4966 - Train Recall 0.3516 - Train F1-score 0.3768 \n",
            "Epoch [50/100] - Train Loss: 1.3922 - Train Accuracy: 0.3750 - Train Precision 0.4783 - Train Recall 0.3750 - Train F1-score 0.3963 \n",
            "Epoch [51/100] - Train Loss: 1.3846 - Train Accuracy: 0.2812 - Train Precision 0.5046 - Train Recall 0.2812 - Train F1-score 0.3082 \n",
            "Epoch [52/100] - Train Loss: 1.4139 - Train Accuracy: 0.2266 - Train Precision 0.4904 - Train Recall 0.2266 - Train F1-score 0.2749 \n",
            "Epoch [53/100] - Train Loss: 1.4159 - Train Accuracy: 0.3750 - Train Precision 0.4557 - Train Recall 0.3750 - Train F1-score 0.3875 \n",
            "Epoch [54/100] - Train Loss: 1.4007 - Train Accuracy: 0.4688 - Train Precision 0.4375 - Train Recall 0.4688 - Train F1-score 0.4494 \n",
            "Epoch [55/100] - Train Loss: 1.3929 - Train Accuracy: 0.3203 - Train Precision 0.4249 - Train Recall 0.3203 - Train F1-score 0.3340 \n",
            "Epoch [56/100] - Train Loss: 1.3786 - Train Accuracy: 0.1406 - Train Precision 0.3588 - Train Recall 0.1406 - Train F1-score 0.1273 \n",
            "Epoch [57/100] - Train Loss: 1.3983 - Train Accuracy: 0.1484 - Train Precision 0.4235 - Train Recall 0.1484 - Train F1-score 0.1744 \n",
            "Epoch [58/100] - Train Loss: 1.3914 - Train Accuracy: 0.2578 - Train Precision 0.3788 - Train Recall 0.2578 - Train F1-score 0.2540 \n",
            "Epoch [59/100] - Train Loss: 1.4129 - Train Accuracy: 0.2734 - Train Precision 0.3919 - Train Recall 0.2734 - Train F1-score 0.3052 \n",
            "Epoch [60/100] - Train Loss: 1.4059 - Train Accuracy: 0.3516 - Train Precision 0.4660 - Train Recall 0.3516 - Train F1-score 0.3746 \n",
            "Epoch [61/100] - Train Loss: 1.3926 - Train Accuracy: 0.2266 - Train Precision 0.4733 - Train Recall 0.2266 - Train F1-score 0.2367 \n",
            "Epoch [62/100] - Train Loss: 1.3887 - Train Accuracy: 0.2344 - Train Precision 0.5850 - Train Recall 0.2344 - Train F1-score 0.2785 \n",
            "Epoch [63/100] - Train Loss: 1.4091 - Train Accuracy: 0.3125 - Train Precision 0.4629 - Train Recall 0.3125 - Train F1-score 0.3410 \n",
            "Epoch [64/100] - Train Loss: 1.4141 - Train Accuracy: 0.1875 - Train Precision 0.2954 - Train Recall 0.1875 - Train F1-score 0.1944 \n",
            "Epoch [65/100] - Train Loss: 1.3978 - Train Accuracy: 0.2734 - Train Precision 0.4646 - Train Recall 0.2734 - Train F1-score 0.2989 \n",
            "Epoch [66/100] - Train Loss: 1.3899 - Train Accuracy: 0.4375 - Train Precision 0.5428 - Train Recall 0.4375 - Train F1-score 0.4494 \n",
            "Epoch [67/100] - Train Loss: 1.4098 - Train Accuracy: 0.1797 - Train Precision 0.4295 - Train Recall 0.1797 - Train F1-score 0.2105 \n",
            "Epoch [68/100] - Train Loss: 1.3907 - Train Accuracy: 0.2109 - Train Precision 0.4955 - Train Recall 0.2109 - Train F1-score 0.2324 \n",
            "Epoch [69/100] - Train Loss: 1.3836 - Train Accuracy: 0.3203 - Train Precision 0.4437 - Train Recall 0.3203 - Train F1-score 0.3413 \n",
            "Epoch [70/100] - Train Loss: 1.3909 - Train Accuracy: 0.2656 - Train Precision 0.5881 - Train Recall 0.2656 - Train F1-score 0.2997 \n",
            "Epoch [71/100] - Train Loss: 1.3874 - Train Accuracy: 0.1562 - Train Precision 0.5649 - Train Recall 0.1562 - Train F1-score 0.1497 \n",
            "Epoch [72/100] - Train Loss: 1.3975 - Train Accuracy: 0.1953 - Train Precision 0.5463 - Train Recall 0.1953 - Train F1-score 0.2280 \n",
            "Epoch [73/100] - Train Loss: 1.4037 - Train Accuracy: 0.2891 - Train Precision 0.4917 - Train Recall 0.2891 - Train F1-score 0.3105 \n",
            "Epoch [74/100] - Train Loss: 1.3913 - Train Accuracy: 0.4844 - Train Precision 0.5099 - Train Recall 0.4844 - Train F1-score 0.4842 \n",
            "Epoch [75/100] - Train Loss: 1.4184 - Train Accuracy: 0.1797 - Train Precision 0.4980 - Train Recall 0.1797 - Train F1-score 0.2038 \n",
            "Epoch [76/100] - Train Loss: 1.3981 - Train Accuracy: 0.2266 - Train Precision 0.5571 - Train Recall 0.2266 - Train F1-score 0.2497 \n",
            "Epoch [77/100] - Train Loss: 1.4047 - Train Accuracy: 0.1641 - Train Precision 0.3651 - Train Recall 0.1641 - Train F1-score 0.1889 \n",
            "Epoch [78/100] - Train Loss: 1.3979 - Train Accuracy: 0.4531 - Train Precision 0.5123 - Train Recall 0.4531 - Train F1-score 0.4376 \n",
            "Epoch [79/100] - Train Loss: 1.3854 - Train Accuracy: 0.5469 - Train Precision 0.4863 - Train Recall 0.5469 - Train F1-score 0.5042 \n",
            "Epoch [80/100] - Train Loss: 1.4009 - Train Accuracy: 0.2266 - Train Precision 0.3302 - Train Recall 0.2266 - Train F1-score 0.1986 \n",
            "Epoch [81/100] - Train Loss: 1.3987 - Train Accuracy: 0.1484 - Train Precision 0.1890 - Train Recall 0.1484 - Train F1-score 0.0695 \n",
            "Epoch [82/100] - Train Loss: 1.3893 - Train Accuracy: 0.2031 - Train Precision 0.3703 - Train Recall 0.2031 - Train F1-score 0.2068 \n",
            "Epoch [83/100] - Train Loss: 1.3865 - Train Accuracy: 0.2734 - Train Precision 0.4360 - Train Recall 0.2734 - Train F1-score 0.2870 \n",
            "Epoch [84/100] - Train Loss: 1.3874 - Train Accuracy: 0.4297 - Train Precision 0.5075 - Train Recall 0.4297 - Train F1-score 0.4314 \n",
            "Epoch [85/100] - Train Loss: 1.3892 - Train Accuracy: 0.3047 - Train Precision 0.5354 - Train Recall 0.3047 - Train F1-score 0.3306 \n",
            "Epoch [86/100] - Train Loss: 1.4254 - Train Accuracy: 0.1328 - Train Precision 0.2705 - Train Recall 0.1328 - Train F1-score 0.1164 \n",
            "Epoch [87/100] - Train Loss: 1.4059 - Train Accuracy: 0.3125 - Train Precision 0.5125 - Train Recall 0.3125 - Train F1-score 0.2900 \n",
            "Epoch [88/100] - Train Loss: 1.3957 - Train Accuracy: 0.6641 - Train Precision 0.4688 - Train Recall 0.6641 - Train F1-score 0.5416 \n",
            "Epoch [89/100] - Train Loss: 1.3858 - Train Accuracy: 0.5859 - Train Precision 0.5426 - Train Recall 0.5859 - Train F1-score 0.5358 \n",
            "Epoch [90/100] - Train Loss: 1.3985 - Train Accuracy: 0.1406 - Train Precision 0.2166 - Train Recall 0.1406 - Train F1-score 0.1334 \n",
            "Epoch [91/100] - Train Loss: 1.3943 - Train Accuracy: 0.2109 - Train Precision 0.4450 - Train Recall 0.2109 - Train F1-score 0.2315 \n",
            "Epoch [92/100] - Train Loss: 1.3901 - Train Accuracy: 0.2031 - Train Precision 0.3830 - Train Recall 0.2031 - Train F1-score 0.2228 \n",
            "Epoch [93/100] - Train Loss: 1.3999 - Train Accuracy: 0.2969 - Train Precision 0.4758 - Train Recall 0.2969 - Train F1-score 0.3386 \n",
            "Epoch [94/100] - Train Loss: 1.3925 - Train Accuracy: 0.3750 - Train Precision 0.4942 - Train Recall 0.3750 - Train F1-score 0.4144 \n",
            "Epoch [95/100] - Train Loss: 1.3845 - Train Accuracy: 0.4453 - Train Precision 0.4803 - Train Recall 0.4453 - Train F1-score 0.4444 \n",
            "Epoch [96/100] - Train Loss: 1.4022 - Train Accuracy: 0.4219 - Train Precision 0.5384 - Train Recall 0.4219 - Train F1-score 0.4583 \n",
            "Epoch [97/100] - Train Loss: 1.4161 - Train Accuracy: 0.1484 - Train Precision 0.5405 - Train Recall 0.1484 - Train F1-score 0.1865 \n",
            "Epoch [98/100] - Train Loss: 1.4112 - Train Accuracy: 0.3359 - Train Precision 0.4679 - Train Recall 0.3359 - Train F1-score 0.3720 \n",
            "Epoch [99/100] - Train Loss: 1.4021 - Train Accuracy: 0.5703 - Train Precision 0.4447 - Train Recall 0.5703 - Train F1-score 0.4865 \n",
            "Epoch [100/100] - Train Loss: 1.4005 - Train Accuracy: 0.5156 - Train Precision 0.4646 - Train Recall 0.5156 - Train F1-score 0.4741 \n"
          ]
        }
      ]
    },
    {
      "cell_type": "code",
      "source": [
        "show_plots(num_epochs, accuracy_dic, 'accuracy')"
      ],
      "metadata": {
        "id": "8ZCS_7x59ROD",
        "colab": {
          "base_uri": "https://localhost:8080/",
          "height": 449
        },
        "outputId": "4653d3b8-3520-4b93-e888-9f58e4578207"
      },
      "execution_count": 118,
      "outputs": [
        {
          "output_type": "display_data",
          "data": {
            "text/plain": [
              "<Figure size 640x480 with 1 Axes>"
            ],
            "image/png": "[encoded data removed]"
          },
          "metadata": {}
        }
      ]
    },
    {
      "cell_type": "code",
      "source": [
        "model.load_state_dict(torch.load(model_path))"
      ],
      "metadata": {
        "id": "ejwshe9CxhBk"
      },
      "execution_count": null,
      "outputs": []
    },
    {
      "cell_type": "code",
      "source": [
        "evaluate(model, dataloaders, criterion, optimizer, device, 'train')"
      ],
      "metadata": {
        "id": "_Vf4c7IH-WL3",
        "colab": {
          "base_uri": "https://localhost:8080/"
        },
        "outputId": "efb874f7-5f6b-41e9-c185-db637926a480"
      },
      "execution_count": 124,
      "outputs": [
        {
          "output_type": "stream",
          "name": "stdout",
          "text": [
            "train Loss: 1.3862 - train Acuracy 0.66 - train Precision: 0.45 - train Recall 0.66 - train F1: 0.53\n"
          ]
        }
      ]
    },
    {
      "cell_type": "code",
      "source": [
        "report(model, dataloaders['train'], device, classes)"
      ],
      "metadata": {
        "id": "vxu_PocB-sph",
        "colab": {
          "base_uri": "https://localhost:8080/",
          "height": 504
        },
        "outputId": "90ff44de-80e1-4318-a729-ed0817b91930"
      },
      "execution_count": 125,
      "outputs": [
        {
          "output_type": "stream",
          "name": "stdout",
          "text": [
            "Confusion matrix\n"
          ]
        },
        {
          "output_type": "display_data",
          "data": {
            "text/plain": [
              "<Figure size 640x480 with 2 Axes>"
            ],
            "image/png": "[encoded data removed]"
          },
          "metadata": {}
        }
      ]
    },
    {
      "cell_type": "code",
      "source": [
        "evaluate(model, dataloaders, criterion, optimizer, device, 'test')"
      ],
      "metadata": {
        "id": "UHmpbm2y-blO",
        "colab": {
          "base_uri": "https://localhost:8080/"
        },
        "outputId": "75613ecc-a3fe-45cd-cc6e-8bd92507946d"
      },
      "execution_count": 126,
      "outputs": [
        {
          "output_type": "stream",
          "name": "stdout",
          "text": [
            "test Loss: 1.3790 - test Acuracy 0.89 - test Precision: 0.81 - test Recall 0.89 - test F1: 0.84\n"
          ]
        }
      ]
    },
    {
      "cell_type": "code",
      "source": [
        "report(model, dataloaders['test'], device, classes)"
      ],
      "metadata": {
        "id": "M_fEBR5L-sJE",
        "colab": {
          "base_uri": "https://localhost:8080/",
          "height": 504
        },
        "outputId": "9686c912-e02c-4fed-dd8f-0904c89f6b3c"
      },
      "execution_count": 127,
      "outputs": [
        {
          "output_type": "stream",
          "name": "stdout",
          "text": [
            "Confusion matrix\n"
          ]
        },
        {
          "output_type": "display_data",
          "data": {
            "text/plain": [
              "<Figure size 640x480 with 2 Axes>"
            ],
            "image/png": "[encoded data removed]"
          },
          "metadata": {}
        }
      ]
    }
  ]
}